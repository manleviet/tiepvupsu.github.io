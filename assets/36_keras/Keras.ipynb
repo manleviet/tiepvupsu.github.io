{
 "cells": [
  {
   "cell_type": "markdown",
   "metadata": {},
   "source": [
    "## Linear regression "
   ]
  },
  {
   "cell_type": "code",
   "execution_count": 2,
   "metadata": {},
   "outputs": [
    {
     "name": "stdout",
     "output_type": "stream",
     "text": [
      "Epoch 1/100\n",
      "100/100 [==============================] - 0s 3ms/step - loss: 1.5613\n",
      "Epoch 2/100\n",
      "100/100 [==============================] - 0s 685us/step - loss: 0.0623\n",
      "Epoch 3/100\n",
      "100/100 [==============================] - 0s 666us/step - loss: 0.0401\n",
      "Epoch 4/100\n",
      "100/100 [==============================] - 0s 749us/step - loss: 0.0389\n",
      "Epoch 5/100\n",
      "100/100 [==============================] - 0s 644us/step - loss: 0.0374\n",
      "Epoch 6/100\n",
      "100/100 [==============================] - 0s 651us/step - loss: 0.0359\n",
      "Epoch 7/100\n",
      "100/100 [==============================] - 0s 619us/step - loss: 0.0395\n",
      "Epoch 8/100\n",
      "100/100 [==============================] - 0s 669us/step - loss: 0.0384\n",
      "Epoch 9/100\n",
      "100/100 [==============================] - 0s 637us/step - loss: 0.0392\n",
      "Epoch 10/100\n",
      "100/100 [==============================] - 0s 574us/step - loss: 0.0378\n",
      "Epoch 11/100\n",
      "100/100 [==============================] - 0s 643us/step - loss: 0.0385\n",
      "Epoch 12/100\n",
      "100/100 [==============================] - 0s 620us/step - loss: 0.0378\n",
      "Epoch 13/100\n",
      "100/100 [==============================] - 0s 641us/step - loss: 0.0383\n",
      "Epoch 14/100\n",
      "100/100 [==============================] - 0s 678us/step - loss: 0.0384\n",
      "Epoch 15/100\n",
      "100/100 [==============================] - 0s 705us/step - loss: 0.0369\n",
      "Epoch 16/100\n",
      "100/100 [==============================] - 0s 619us/step - loss: 0.0382\n",
      "Epoch 17/100\n",
      "100/100 [==============================] - 0s 793us/step - loss: 0.0384\n",
      "Epoch 18/100\n",
      "100/100 [==============================] - 0s 782us/step - loss: 0.0375 0s - loss: 0.037\n",
      "Epoch 19/100\n",
      "100/100 [==============================] - 0s 798us/step - loss: 0.0380\n",
      "Epoch 20/100\n",
      "100/100 [==============================] - 0s 744us/step - loss: 0.0350\n",
      "Epoch 21/100\n",
      "100/100 [==============================] - 0s 737us/step - loss: 0.0375\n",
      "Epoch 22/100\n",
      "100/100 [==============================] - 0s 675us/step - loss: 0.0388\n",
      "Epoch 23/100\n",
      "100/100 [==============================] - 0s 805us/step - loss: 0.0372\n",
      "Epoch 24/100\n",
      "100/100 [==============================] - 0s 781us/step - loss: 0.0380\n",
      "Epoch 25/100\n",
      "100/100 [==============================] - 0s 898us/step - loss: 0.0368\n",
      "Epoch 26/100\n",
      "100/100 [==============================] - 0s 849us/step - loss: 0.0375\n",
      "Epoch 27/100\n",
      "100/100 [==============================] - 0s 779us/step - loss: 0.0368\n",
      "Epoch 28/100\n",
      "100/100 [==============================] - 0s 768us/step - loss: 0.0397\n",
      "Epoch 29/100\n",
      "100/100 [==============================] - 0s 742us/step - loss: 0.0393\n",
      "Epoch 30/100\n",
      "100/100 [==============================] - 0s 672us/step - loss: 0.0385\n",
      "Epoch 31/100\n",
      "100/100 [==============================] - 0s 730us/step - loss: 0.0388\n",
      "Epoch 32/100\n",
      "100/100 [==============================] - 0s 635us/step - loss: 0.0391\n",
      "Epoch 33/100\n",
      "100/100 [==============================] - 0s 762us/step - loss: 0.0366\n",
      "Epoch 34/100\n",
      "100/100 [==============================] - 0s 654us/step - loss: 0.0357\n",
      "Epoch 35/100\n",
      "100/100 [==============================] - 0s 715us/step - loss: 0.0379 0s - loss: 0.040\n",
      "Epoch 36/100\n",
      "100/100 [==============================] - 0s 668us/step - loss: 0.0403\n",
      "Epoch 37/100\n",
      "100/100 [==============================] - 0s 699us/step - loss: 0.0359\n",
      "Epoch 38/100\n",
      "100/100 [==============================] - 0s 822us/step - loss: 0.0393\n",
      "Epoch 39/100\n",
      "100/100 [==============================] - 0s 795us/step - loss: 0.0401\n",
      "Epoch 40/100\n",
      "100/100 [==============================] - 0s 859us/step - loss: 0.0375\n",
      "Epoch 41/100\n",
      "100/100 [==============================] - 0s 944us/step - loss: 0.0371\n",
      "Epoch 42/100\n",
      "100/100 [==============================] - 0s 734us/step - loss: 0.0375\n",
      "Epoch 43/100\n",
      "100/100 [==============================] - 0s 789us/step - loss: 0.0368\n",
      "Epoch 44/100\n",
      "100/100 [==============================] - 0s 766us/step - loss: 0.0382\n",
      "Epoch 45/100\n",
      "100/100 [==============================] - 0s 631us/step - loss: 0.0379\n",
      "Epoch 46/100\n",
      "100/100 [==============================] - 0s 687us/step - loss: 0.0398\n",
      "Epoch 47/100\n",
      "100/100 [==============================] - 0s 641us/step - loss: 0.0377\n",
      "Epoch 48/100\n",
      "100/100 [==============================] - 0s 659us/step - loss: 0.0385\n",
      "Epoch 49/100\n",
      "100/100 [==============================] - 0s 744us/step - loss: 0.0365\n",
      "Epoch 50/100\n",
      "100/100 [==============================] - 0s 746us/step - loss: 0.0403 0s - loss: 0.043\n",
      "Epoch 51/100\n",
      "100/100 [==============================] - 0s 823us/step - loss: 0.0379\n",
      "Epoch 52/100\n",
      "100/100 [==============================] - 0s 700us/step - loss: 0.0382\n",
      "Epoch 53/100\n",
      "100/100 [==============================] - 0s 712us/step - loss: 0.0379\n",
      "Epoch 54/100\n",
      "100/100 [==============================] - 0s 677us/step - loss: 0.0379\n",
      "Epoch 55/100\n",
      "100/100 [==============================] - 0s 703us/step - loss: 0.0379\n",
      "Epoch 56/100\n",
      "100/100 [==============================] - 0s 786us/step - loss: 0.0367\n",
      "Epoch 57/100\n",
      "100/100 [==============================] - 0s 763us/step - loss: 0.0389\n",
      "Epoch 58/100\n",
      "100/100 [==============================] - 0s 682us/step - loss: 0.0370\n",
      "Epoch 59/100\n",
      "100/100 [==============================] - 0s 688us/step - loss: 0.0357\n",
      "Epoch 60/100\n",
      "100/100 [==============================] - 0s 640us/step - loss: 0.0378\n",
      "Epoch 61/100\n",
      "100/100 [==============================] - 0s 678us/step - loss: 0.0400\n",
      "Epoch 62/100\n",
      "100/100 [==============================] - 0s 714us/step - loss: 0.0383\n",
      "Epoch 63/100\n",
      "100/100 [==============================] - 0s 724us/step - loss: 0.0408\n",
      "Epoch 64/100\n",
      "100/100 [==============================] - 0s 677us/step - loss: 0.0386\n",
      "Epoch 65/100\n",
      "100/100 [==============================] - 0s 702us/step - loss: 0.0375\n",
      "Epoch 66/100\n",
      "100/100 [==============================] - 0s 654us/step - loss: 0.0374\n",
      "Epoch 67/100\n",
      "100/100 [==============================] - 0s 680us/step - loss: 0.0365\n",
      "Epoch 68/100\n",
      "100/100 [==============================] - 0s 705us/step - loss: 0.0386\n",
      "Epoch 69/100\n",
      "100/100 [==============================] - 0s 632us/step - loss: 0.0374\n",
      "Epoch 70/100\n",
      "100/100 [==============================] - ETA: 0s - loss: 0.037 - 0s 600us/step - loss: 0.0372\n",
      "Epoch 71/100\n",
      "100/100 [==============================] - 0s 621us/step - loss: 0.0384\n",
      "Epoch 72/100\n",
      "100/100 [==============================] - 0s 640us/step - loss: 0.0359\n",
      "Epoch 73/100\n",
      "100/100 [==============================] - 0s 666us/step - loss: 0.0386\n",
      "Epoch 74/100\n",
      "100/100 [==============================] - 0s 643us/step - loss: 0.0388\n",
      "Epoch 75/100\n",
      "100/100 [==============================] - 0s 617us/step - loss: 0.0389 0s - loss: 0.039\n",
      "Epoch 76/100\n",
      "100/100 [==============================] - 0s 586us/step - loss: 0.0388\n",
      "Epoch 77/100\n",
      "100/100 [==============================] - 0s 622us/step - loss: 0.0370\n",
      "Epoch 78/100\n",
      "100/100 [==============================] - 0s 659us/step - loss: 0.0369\n",
      "Epoch 79/100\n",
      "100/100 [==============================] - 0s 630us/step - loss: 0.0382\n",
      "Epoch 80/100\n",
      "100/100 [==============================] - 0s 634us/step - loss: 0.0369\n",
      "Epoch 81/100\n",
      "100/100 [==============================] - 0s 657us/step - loss: 0.0404\n",
      "Epoch 82/100\n",
      "100/100 [==============================] - 0s 567us/step - loss: 0.0391\n",
      "Epoch 83/100\n",
      "100/100 [==============================] - 0s 588us/step - loss: 0.0369\n",
      "Epoch 84/100\n",
      "100/100 [==============================] - 0s 605us/step - loss: 0.0393\n",
      "Epoch 85/100\n",
      "100/100 [==============================] - 0s 562us/step - loss: 0.0376\n",
      "Epoch 86/100\n",
      "100/100 [==============================] - 0s 520us/step - loss: 0.0397\n",
      "Epoch 87/100\n",
      "100/100 [==============================] - 0s 508us/step - loss: 0.0372\n",
      "Epoch 88/100\n",
      "100/100 [==============================] - 0s 516us/step - loss: 0.0383\n",
      "Epoch 89/100\n",
      "100/100 [==============================] - 0s 509us/step - loss: 0.0368\n",
      "Epoch 90/100\n",
      "100/100 [==============================] - 0s 625us/step - loss: 0.0361\n",
      "Epoch 91/100\n",
      "100/100 [==============================] - 0s 732us/step - loss: 0.0369\n",
      "Epoch 92/100\n",
      "100/100 [==============================] - 0s 699us/step - loss: 0.0380\n",
      "Epoch 93/100\n",
      "100/100 [==============================] - 0s 670us/step - loss: 0.0383\n",
      "Epoch 94/100\n",
      "100/100 [==============================] - 0s 690us/step - loss: 0.0364\n",
      "Epoch 95/100\n",
      "100/100 [==============================] - 0s 763us/step - loss: 0.0377\n",
      "Epoch 96/100\n",
      "100/100 [==============================] - 0s 612us/step - loss: 0.0377\n",
      "Epoch 97/100\n",
      "100/100 [==============================] - 0s 599us/step - loss: 0.0380\n",
      "Epoch 98/100\n",
      "100/100 [==============================] - 0s 638us/step - loss: 0.0393\n",
      "Epoch 99/100\n",
      "100/100 [==============================] - 0s 682us/step - loss: 0.0380\n",
      "Epoch 100/100\n",
      "100/100 [==============================] - 0s 657us/step - loss: 0.0374\n"
     ]
    },
    {
     "data": {
      "text/plain": [
       "<keras.callbacks.History at 0x118ff5a10>"
      ]
     },
     "execution_count": 2,
     "metadata": {},
     "output_type": "execute_result"
    }
   ],
   "source": [
    "import numpy as np \n",
    "import keras \n",
    "from keras.models import Sequential\n",
    "from keras.layers.core import Dense, Activation\n",
    "from keras import optimizers\n",
    "\n",
    "\n",
    "# 1. create pseudo data y = 2*x0 + 3*x1 + 4\n",
    "X = np.random.rand(100, 2)\n",
    "y =  2* X[:,0] + 3 * X[:,1] + 4 + .2*np.random.randn(100) # noise added\n",
    "\n",
    "# 2. Build model \n",
    "model = Sequential()\n",
    "model.add(Dense(1, input_shape=(2,), activation='linear'))\n",
    "\n",
    "# 3. gradient descent optimizer and loss function \n",
    "sgd = optimizers.SGD(lr=0.1)\n",
    "model.compile(loss='mse', optimizer=sgd)\n",
    "\n",
    "# 4. Train the model \n",
    "model.fit(X, y, epochs=100, batch_size=2, verbose=1)"
   ]
  },
  {
   "cell_type": "code",
   "execution_count": 3,
   "metadata": {},
   "outputs": [
    {
     "data": {
      "text/plain": [
       "[array([[2.066196 ],\n",
       "        [2.9374998]], dtype=float32), array([4.0206037], dtype=float32)]"
      ]
     },
     "execution_count": 3,
     "metadata": {},
     "output_type": "execute_result"
    }
   ],
   "source": [
    "model.get_weights() "
   ]
  },
  {
   "cell_type": "markdown",
   "metadata": {},
   "source": [
    "## Logistic regression "
   ]
  },
  {
   "cell_type": "code",
   "execution_count": 4,
   "metadata": {},
   "outputs": [
    {
     "data": {
      "text/plain": [
       "<keras.callbacks.History at 0x119546d50>"
      ]
     },
     "execution_count": 4,
     "metadata": {},
     "output_type": "execute_result"
    }
   ],
   "source": [
    "import numpy as np \n",
    "from keras.models import Sequential\n",
    "from keras.layers.core import Dense, Activation\n",
    "from keras import losses, optimizers\n",
    "\n",
    "# 1. Prepare data \n",
    "X = np.array([0.50, 0.75, 1.00, 1.25, 1.50, 1.75, 1.75, 2.00, 2.25, 2.50, \n",
    "              2.75, 3.00, 3.25, 3.50, 4.00, 4.25, 4.50, 4.75, 5.00, 5.50])\n",
    "y = np.array([0, 0, 0, 0, 0, 0, 1, 0, 1, 0, 1, 0, 1, 0, 1, 1, 1, 1, 1, 1])\n",
    "\n",
    "# 2. Build model \n",
    "model = Sequential()\n",
    "model.add(Dense(1, input_shape=(1,)))\n",
    "model.add(Activation('sigmoid'))\n",
    "\n",
    "# 3. gradient descent optimizer and loss function \n",
    "sgd = optimizers.SGD(lr=0.05)\n",
    "model.compile(loss=losses.binary_crossentropy, optimizer=sgd)\n",
    "\n",
    "# 4. Train the model \n",
    "model.fit(X, y, epochs=3000, batch_size=1, verbose=0)"
   ]
  },
  {
   "cell_type": "code",
   "execution_count": 5,
   "metadata": {},
   "outputs": [
    {
     "data": {
      "text/plain": [
       "[array([[1.5424979]], dtype=float32), array([-4.1010823], dtype=float32)]"
      ]
     },
     "execution_count": 5,
     "metadata": {},
     "output_type": "execute_result"
    }
   ],
   "source": [
    "model.get_weights()"
   ]
  },
  {
   "cell_type": "markdown",
   "metadata": {},
   "source": [
    "## MLP với fashion MNIST "
   ]
  },
  {
   "cell_type": "code",
   "execution_count": 12,
   "metadata": {},
   "outputs": [
    {
     "name": "stdout",
     "output_type": "stream",
     "text": [
      "x_train shape:\t (60000, 28, 28)\n",
      "x_test shape:\t (10000, 28, 28)\n",
      "y_train shape:\t (60000,)\n",
      "y_test shape:\t (10000,)\n"
     ]
    }
   ],
   "source": [
    "from __future__ import print_function \n",
    "from keras.datasets import fashion_mnist\n",
    "\n",
    "(x_train, y_train), (x_test, y_test) = fashion_mnist.load_data()\n",
    "print('x_train shape:\\t', x_train.shape)\n",
    "print('x_test shape:\\t', x_test.shape)\n",
    "print('y_train shape:\\t', y_train.shape)\n",
    "print('y_test shape:\\t', y_test.shape)"
   ]
  },
  {
   "cell_type": "code",
   "execution_count": 13,
   "metadata": {
    "collapsed": true
   },
   "outputs": [],
   "source": [
    "x_train = x_train/ 255.\n",
    "x_test = x_test/255. \n",
    "num_classes = 10 \n",
    "y_train = keras.utils.to_categorical(y_train, num_classes)\n",
    "y_test = keras.utils.to_categorical(y_test, num_classes)"
   ]
  },
  {
   "cell_type": "code",
   "execution_count": 14,
   "metadata": {
    "collapsed": true
   },
   "outputs": [],
   "source": [
    "from keras.layers import Dense, Flatten\n",
    "from keras.models import Sequential\n",
    "# 2. buid model \n",
    "model = Sequential()\n",
    "model.add(Flatten(input_shape=(28, 28)))\n",
    "model.add(Dense(128, activation='relu'))\n",
    "model.add(Dense(256, activation='relu'))\n",
    "model.add(Dense(512, activation='relu'))\n",
    "model.add(Dense(num_classes, activation='softmax'))\n",
    "\n",
    "# 3. loss, metrics \n",
    "model.compile(loss=keras.losses.categorical_crossentropy,\n",
    "              optimizer=keras.optimizers.SGD(lr=0.1),\n",
    "              metrics=['accuracy'])"
   ]
  },
  {
   "cell_type": "code",
   "execution_count": 15,
   "metadata": {},
   "outputs": [
    {
     "name": "stdout",
     "output_type": "stream",
     "text": [
      "Epoch 1/20\n",
      "60000/60000 [==============================] - 3s 53us/step - loss: 0.6759 - acc: 0.7583\n",
      "Epoch 2/20\n",
      "60000/60000 [==============================] - 3s 43us/step - loss: 0.4399 - acc: 0.8394\n",
      "Epoch 3/20\n",
      "60000/60000 [==============================] - 3s 44us/step - loss: 0.3876 - acc: 0.8589\n",
      "Epoch 4/20\n",
      "60000/60000 [==============================] - 3s 44us/step - loss: 0.3595 - acc: 0.8678\n",
      "Epoch 5/20\n",
      "60000/60000 [==============================] - 3s 43us/step - loss: 0.3403 - acc: 0.8744\n",
      "Epoch 6/20\n",
      "60000/60000 [==============================] - 3s 47us/step - loss: 0.3241 - acc: 0.8799\n",
      "Epoch 7/20\n",
      "60000/60000 [==============================] - 3s 44us/step - loss: 0.3096 - acc: 0.8851\n",
      "Epoch 8/20\n",
      "60000/60000 [==============================] - 2s 40us/step - loss: 0.2969 - acc: 0.8901\n",
      "Epoch 9/20\n",
      "60000/60000 [==============================] - 2s 39us/step - loss: 0.2893 - acc: 0.8914\n",
      "Epoch 10/20\n",
      "60000/60000 [==============================] - 3s 50us/step - loss: 0.2806 - acc: 0.8959\n",
      "Epoch 11/20\n",
      "60000/60000 [==============================] - 2s 40us/step - loss: 0.2709 - acc: 0.8975\n",
      "Epoch 12/20\n",
      "60000/60000 [==============================] - 2s 39us/step - loss: 0.2638 - acc: 0.9010\n",
      "Epoch 13/20\n",
      "60000/60000 [==============================] - 2s 39us/step - loss: 0.2546 - acc: 0.9046\n",
      "Epoch 14/20\n",
      "60000/60000 [==============================] - 3s 42us/step - loss: 0.2483 - acc: 0.9059\n",
      "Epoch 15/20\n",
      "60000/60000 [==============================] - 2s 41us/step - loss: 0.2423 - acc: 0.9094\n",
      "Epoch 16/20\n",
      "60000/60000 [==============================] - 3s 44us/step - loss: 0.2358 - acc: 0.9117\n",
      "Epoch 17/20\n",
      "60000/60000 [==============================] - 2s 41us/step - loss: 0.2302 - acc: 0.9130\n",
      "Epoch 18/20\n",
      "60000/60000 [==============================] - 2s 41us/step - loss: 0.2255 - acc: 0.9144\n",
      "Epoch 19/20\n",
      "60000/60000 [==============================] - 3s 43us/step - loss: 0.2258 - acc: 0.9163\n",
      "Epoch 20/20\n",
      "60000/60000 [==============================] - 2s 41us/step - loss: 0.2152 - acc: 0.9183\n"
     ]
    },
    {
     "data": {
      "text/plain": [
       "<keras.callbacks.History at 0x11b0551d0>"
      ]
     },
     "execution_count": 15,
     "metadata": {},
     "output_type": "execute_result"
    }
   ],
   "source": [
    "# 4. train the model \n",
    "model.fit(x_train, y_train, batch_size=128, epochs = 20)"
   ]
  },
  {
   "cell_type": "code",
   "execution_count": 16,
   "metadata": {},
   "outputs": [
    {
     "name": "stdout",
     "output_type": "stream",
     "text": [
      "Test loss: 0.3238\n",
      "Test accuracy 0.8870\n"
     ]
    }
   ],
   "source": [
    "score = model.evaluate(x_test, y_test, verbose=0)\n",
    "print('Test loss: %.4f'% score[0])\n",
    "print('Test accuracy %.4f'% score[1])"
   ]
  },
  {
   "cell_type": "code",
   "execution_count": null,
   "metadata": {
    "collapsed": true
   },
   "outputs": [],
   "source": []
  }
 ],
 "metadata": {
  "kernelspec": {
   "display_name": "Python 2",
   "language": "python",
   "name": "python2"
  },
  "language_info": {
   "codemirror_mode": {
    "name": "ipython",
    "version": 2
   },
   "file_extension": ".py",
   "mimetype": "text/x-python",
   "name": "python",
   "nbconvert_exporter": "python",
   "pygments_lexer": "ipython2",
   "version": "2.7.13"
  },
  "latex_envs": {
   "LaTeX_envs_menu_present": true,
   "autoclose": false,
   "autocomplete": true,
   "bibliofile": "biblio.bib",
   "cite_by": "apalike",
   "current_citInitial": 1,
   "eqLabelWithNumbers": true,
   "eqNumInitial": 1,
   "hotkeys": {
    "equation": "Ctrl-E",
    "itemize": "Ctrl-I"
   },
   "labels_anchors": false,
   "latex_user_defs": false,
   "report_style_numbering": false,
   "user_envs_cfg": false
  },
  "toc": {
   "nav_menu": {},
   "number_sections": true,
   "sideBar": true,
   "skip_h1_title": false,
   "title_cell": "Table of Contents",
   "title_sidebar": "Contents",
   "toc_cell": false,
   "toc_position": {},
   "toc_section_display": true,
   "toc_window_display": true
  }
 },
 "nbformat": 4,
 "nbformat_minor": 2
}
